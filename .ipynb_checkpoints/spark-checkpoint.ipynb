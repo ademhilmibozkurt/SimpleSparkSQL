{
 "cells": [
  {
   "cell_type": "markdown",
   "id": "d5095fc9-621a-4bc7-a4cf-6ade1bf564a7",
   "metadata": {},
   "source": [
    "# Analyze Data with Spark"
   ]
  },
  {
   "cell_type": "markdown",
   "id": "0dfa5c67-c708-4957-8c82-da7988f0f2d4",
   "metadata": {},
   "source": [
    "## Import Libraries"
   ]
  },
  {
   "cell_type": "code",
   "execution_count": 1,
   "id": "6611f87b-fdb7-44f9-8d8e-4dfee2d65de3",
   "metadata": {},
   "outputs": [],
   "source": [
    "import findspark"
   ]
  },
  {
   "cell_type": "code",
   "execution_count": 2,
   "id": "bed5bf61-d83d-4369-be32-575fb8706a62",
   "metadata": {},
   "outputs": [],
   "source": [
    "findspark.init('C:\\spark')"
   ]
  },
  {
   "cell_type": "code",
   "execution_count": 3,
   "id": "6698685a-9645-4382-85d2-5ffdbcbc7bf0",
   "metadata": {},
   "outputs": [],
   "source": [
    "from pyspark.sql import SparkSession"
   ]
  },
  {
   "cell_type": "markdown",
   "id": "5e4d2d46-d099-4562-aca5-ae20ce7946e2",
   "metadata": {},
   "source": [
    "## Build SQL Session"
   ]
  },
  {
   "cell_type": "code",
   "execution_count": 4,
   "id": "f4a1085c-c543-4ff8-ae1b-cc1ea9becb6a",
   "metadata": {},
   "outputs": [],
   "source": [
    "spark = SparkSession.builder.getOrCreate()"
   ]
  },
  {
   "cell_type": "markdown",
   "id": "b8247300-aea0-45b1-a3ba-560933532643",
   "metadata": {},
   "source": [
    "### Read Dataset"
   ]
  },
  {
   "cell_type": "code",
   "execution_count": 5,
   "id": "e9518c48-017e-49be-9f16-a563763d5811",
   "metadata": {},
   "outputs": [],
   "source": [
    "data = spark.read.format('csv').option('header', 'true').load('source/VGS.csv')"
   ]
  },
  {
   "cell_type": "markdown",
   "id": "5b6d22db-341c-470b-b088-ada63b374975",
   "metadata": {},
   "source": [
    "### Grouping Gaming Platforms"
   ]
  },
  {
   "cell_type": "code",
   "execution_count": 6,
   "id": "bc2514ec-682d-4f95-ac9b-64f3a4ecfeb3",
   "metadata": {},
   "outputs": [],
   "source": [
    "data1 = data.groupBy('Platform').count().orderBy('count', ascending=False)"
   ]
  },
  {
   "cell_type": "code",
   "execution_count": 7,
   "id": "93dc356b-3903-4503-9fea-3f98cf8f8f0f",
   "metadata": {},
   "outputs": [
    {
     "data": {
      "text/plain": [
       "[Row(Platform='PS2', count=2161),\n",
       " Row(Platform='DS', count=2152),\n",
       " Row(Platform='PS3', count=1331),\n",
       " Row(Platform='Wii', count=1320),\n",
       " Row(Platform='X360', count=1262),\n",
       " Row(Platform='PSP', count=1209),\n",
       " Row(Platform='PS', count=1197),\n",
       " Row(Platform='PC', count=974),\n",
       " Row(Platform='XB', count=824),\n",
       " Row(Platform='GBA', count=822),\n",
       " Row(Platform='GC', count=556),\n",
       " Row(Platform='3DS', count=520),\n",
       " Row(Platform='PSV', count=432),\n",
       " Row(Platform='PS4', count=393),\n",
       " Row(Platform='N64', count=319),\n",
       " Row(Platform='XOne', count=247),\n",
       " Row(Platform='SNES', count=239),\n",
       " Row(Platform='SAT', count=173),\n",
       " Row(Platform='WiiU', count=147),\n",
       " Row(Platform='2600', count=133),\n",
       " Row(Platform='NES', count=98),\n",
       " Row(Platform='GB', count=98),\n",
       " Row(Platform='DC', count=52),\n",
       " Row(Platform='GEN', count=29),\n",
       " Row(Platform='NG', count=12),\n",
       " Row(Platform='SCD', count=6),\n",
       " Row(Platform='WS', count=6),\n",
       " Row(Platform='3DO', count=3),\n",
       " Row(Platform='TG16', count=2),\n",
       " Row(Platform='PCFX', count=1),\n",
       " Row(Platform='GG', count=1)]"
      ]
     },
     "execution_count": 7,
     "metadata": {},
     "output_type": "execute_result"
    }
   ],
   "source": [
    "data1.collect()"
   ]
  },
  {
   "cell_type": "markdown",
   "id": "7e7e95cb-0a34-42a4-ac3c-714d58c931d9",
   "metadata": {},
   "source": [
    "### Grouping Genres"
   ]
  },
  {
   "cell_type": "code",
   "execution_count": 8,
   "id": "2a21c806-0231-4095-adbc-f38966bc7b28",
   "metadata": {
    "tags": []
   },
   "outputs": [],
   "source": [
    "data2 = data.groupBy('Genre').count().orderBy('count', ascending=False)"
   ]
  },
  {
   "cell_type": "code",
   "execution_count": 9,
   "id": "6ad43945-ee01-4324-8ec3-40ebe7cf9a18",
   "metadata": {},
   "outputs": [
    {
     "data": {
      "text/plain": [
       "[Row(Genre='Action', count=3370),\n",
       " Row(Genre='Sports', count=2348),\n",
       " Row(Genre='Misc', count=1750),\n",
       " Row(Genre='Role-Playing', count=1500),\n",
       " Row(Genre='Shooter', count=1323),\n",
       " Row(Genre='Adventure', count=1303),\n",
       " Row(Genre='Racing', count=1249),\n",
       " Row(Genre='Platform', count=888),\n",
       " Row(Genre='Simulation', count=874),\n",
       " Row(Genre='Fighting', count=849),\n",
       " Row(Genre='Strategy', count=683),\n",
       " Row(Genre='Puzzle', count=580),\n",
       " Row(Genre=None, count=2)]"
      ]
     },
     "execution_count": 9,
     "metadata": {},
     "output_type": "execute_result"
    }
   ],
   "source": [
    "data2.collect()"
   ]
  }
 ],
 "metadata": {
  "kernelspec": {
   "display_name": "Python 3",
   "language": "python",
   "name": "python3"
  },
  "language_info": {
   "codemirror_mode": {
    "name": "ipython",
    "version": 3
   },
   "file_extension": ".py",
   "mimetype": "text/x-python",
   "name": "python",
   "nbconvert_exporter": "python",
   "pygments_lexer": "ipython3",
   "version": "3.8.8"
  }
 },
 "nbformat": 4,
 "nbformat_minor": 5
}
